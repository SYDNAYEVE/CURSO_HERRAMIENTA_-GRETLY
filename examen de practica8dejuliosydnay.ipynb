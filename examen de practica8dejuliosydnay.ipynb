{
 "cells": [
  {
   "cell_type": "markdown",
   "metadata": {},
   "source": [
    "grupo a Escriba un programa que mediante una función pida la anchura y altura de un \n",
    "rectángulo y lo dibuje con caracteres (&):"
   ]
  },
  {
   "cell_type": "code",
   "execution_count": 38,
   "metadata": {},
   "outputs": [
    {
     "name": "stdout",
     "output_type": "stream",
     "text": [
      "&&&&&&&\n",
      "&&&&&&&\n",
      "&&&&&&&\n",
      "&&&&&&&\n",
      "&&&&&&&\n",
      "&&&&&&&\n",
      "&&&&&&&\n",
      "&&&&&&&\n",
      "&&&&&&&\n"
     ]
    }
   ],
   "source": [
    "anchura = int(input(\"Anchura del rectángulo: \"))\n",
    "altura = int(input(\"Altura del rectángulo: \"))\n",
    "for i in range(altura):\n",
    "    for j in range(anchura):\n",
    "        print(\"&\", end=\"\")\n",
    "    print()"
   ]
  },
  {
   "cell_type": "markdown",
   "metadata": {},
   "source": [
    "2 Escriba un programa que pida un año y que escriba si es bisiesto o no. Se recuerda \n",
    "que los años bisiestos son múltiplos de 4, pero los múltiplos de 100 no lo son, aunque \n",
    "los múltiplos de 400 sí. Estos son algunos ejemplos de posibles respuestas: 2012 es \n",
    "bisiesto, 2010 no es bisiesto, 2000 es bisiesto, 1900 no es bisiesto."
   ]
  },
  {
   "cell_type": "code",
   "execution_count": 18,
   "metadata": {},
   "outputs": [
    {
     "name": "stdout",
     "output_type": "stream",
     "text": [
      "2010 no es bisiesto.\n"
     ]
    }
   ],
   "source": [
    "def bisiesto(año):\n",
    "    if (año % 4 == 0 and año% 100 != 0) or (año % 400 == 0):\n",
    "        return True\n",
    "    else:\n",
    "        return False\n",
    "año = int(input(\"Introduce un año: \"))\n",
    "if bisiesto(año):\n",
    "    print(f\"{año} es bisiesto.\")\n",
    "else:\n",
    "    print(f\"{año} no es bisiesto.\")\n",
    "\n",
    "\n",
    "\n",
    "\n",
    "\n",
    "\n",
    "\n"
   ]
  },
  {
   "cell_type": "markdown",
   "metadata": {},
   "source": [
    "5 Escribir una función que reciba una muestra de números en una lista y devuelva un \n",
    "diccionario con su media, varianza y desviación típica."
   ]
  },
  {
   "cell_type": "code",
   "execution_count": 44,
   "metadata": {},
   "outputs": [
    {
     "name": "stdout",
     "output_type": "stream",
     "text": [
      "Función para crear listas\n",
      "La lista creada es:\n",
      "Elemento 1: varianza\n",
      "Elemento 2: desviacion tipica\n",
      "Elemento 3: media\n",
      "Elemento 4: animales\n",
      "Elemento 5: vaca\n",
      "Elemento 6: oveja\n",
      "Elemento 7: burro\n"
     ]
    }
   ],
   "source": [
    "def crear_lista(numero):\n",
    "    lista = []\n",
    "    for i in range(numero):\n",
    "        palabra = input(f\"Introduce el elemento {i + 1} para la lista: \")\n",
    "        lista.append(palabra)\n",
    "    return lista\n",
    "\n",
    "def main():\n",
    "    print(\"Función para crear listas\")\n",
    "    numero = int(input(\"¿Cuántos elementos quieres en la lista? \"))\n",
    "    mi_lista = crear_lista(numero)\n",
    "    \n",
    "    print(\"La lista creada es:\")\n",
    "    for i in range(1, numero + 1):\n",
    "        print(f\"Elemento {i}: {mi_lista[i - 1]}\")\n",
    "\n",
    "if __name__ == \"__main__\":\n",
    "    main()\n"
   ]
  },
  {
   "cell_type": "code",
   "execution_count": 45,
   "metadata": {},
   "outputs": [
    {
     "name": "stdout",
     "output_type": "stream",
     "text": [
      "{'media': 3, 'varianza': 2.5, 'desviacion_tipica': 1.5811388300841898}\n"
     ]
    }
   ],
   "source": [
    "\n",
    "\n",
    "def calcular_estadisticas(lista_numeros):\n",
    "    media = variedad(lista_numeros)\n",
    "    varianza = variedad(lista_numeros)\n",
    "    desviacion_tipica = variedad (lista_numeros)\n",
    "    \n",
    "    estadisticas = {\n",
    "        'media': media,\n",
    "        'varianza': varianza,\n",
    "        'desviacion_tipica': desviacion_tipica\n",
    "    }\n",
    "    \n",
    "    return estadisticas\n",
    "\n",
    "numeros = [1, 2, 3, 4, 5]\n",
    "resultado = calcular_estadisticas(numeros)\n",
    "print(resultado)"
   ]
  },
  {
   "cell_type": "markdown",
   "metadata": {},
   "source": [
    "grupo de b Escriba un programa que permita crear una lista de palabras y que, a continuación, \n",
    "pida una palabra y diga cuántas veces aparece esa palabra en la lista."
   ]
  },
  {
   "cell_type": "code",
   "execution_count": 17,
   "metadata": {},
   "outputs": [
    {
     "name": "stdout",
     "output_type": "stream",
     "text": [
      "La nueva lista creada es: ['manzana', 'pera']\n",
      "La palabra 'pera' aparece una vez en la lista.\n"
     ]
    }
   ],
   "source": [
    "\n",
    "numero = int(input(\"¿Cuántas palabras tiene la lista? \"))\n",
    "\n",
    "if numero < 1:\n",
    "    print(\"No se ha generado ninguna lista.\")\n",
    "else:\n",
    "    lista = []\n",
    "    \n",
    "    for i in range(numero):\n",
    "        palabra = input(f\"Dime la palabra {i + 1}: \")\n",
    "        lista.append(palabra)\n",
    "    \n",
    "    print(\"La nueva lista creada es:\", lista)\n",
    "\n",
    "    buscar = input(\"¿Cuál es la palabra que quieres buscar?: \")\n",
    "    contador = 0\n",
    "    for palabra in lista:\n",
    "        if palabra == buscar:\n",
    "            contador += 1\n",
    "    if contador == 0:\n",
    "        print(f\"La palabra '{buscar}' no aparece en la lista.\")\n",
    "    elif contador == 1:\n",
    "        print(f\"La palabra '{buscar}' aparece una vez en la lista.\")\n",
    "    else:\n",
    "        print(f\"La palabra '{buscar}' aparece {contador} veces en la lista.\")"
   ]
  },
  {
   "cell_type": "markdown",
   "metadata": {},
   "source": [
    "Escribir un programa que almacene los cursos HDS, AG, DG, TPC, TPD en una lista, \n",
    "pregunte al usuario la nota que ha sacado en cada curso y elimine de la lista los cursos \n",
    "desaprobados. Al final el programa debe mostrar por pantalla los cursos que el usuario \n",
    "a aprobado."
   ]
  },
  {
   "cell_type": "code",
   "execution_count": 15,
   "metadata": {},
   "outputs": [
    {
     "name": "stdout",
     "output_type": "stream",
     "text": [
      "has aprobado usted en esa curso ['HDS', 'AG', 'DG', 'TPD']\n"
     ]
    }
   ],
   "source": [
    "cursos=[\"HDS\",\"AG\",\"DG\",\"TPC\",\"TPD\"]\n",
    "aprobado=[]\n",
    "for curso in cursos:\n",
    "    nota= float(input(\"¿cual es la nota que obtuviste?\"+curso + \"?\"))\n",
    "    if nota >= 15:\n",
    "     aprobado.append(curso)\n",
    "    for curso in aprobado:\n",
    "        cursos.remove(curso)\n",
    "        print(\"has aprobado usted en esa curso \"+ str(cursos))"
   ]
  },
  {
   "cell_type": "markdown",
   "metadata": {},
   "source": [
    "Escribir un programa que gestione las facturas pendientes de cobro de una empresa. \n",
    "Las facturas se almacenarán en un diccionario donde la clave de cada factura será el \n",
    "número de factura y el valor el coste de la factura. El programa debe preguntar al \n",
    "usuario si quiere añadir una nueva factura, pagar una existente o terminar. Si desea \n",
    "añadir una nueva factura se preguntará por el número de factura y su coste y se añadirá \n",
    "al diccionario. Si se desea pagar una factura se preguntará por el número de factura y \n",
    "se eliminará del diccionario, y deberá añadir el 18% del monto a pagar. Después de \n",
    "cada operación el programa debe mostrar por pantalla la cantidad cobrada hasta"
   ]
  },
  {
   "cell_type": "code",
   "execution_count": null,
   "metadata": {},
   "outputs": [],
   "source": [
    "facturas = {}\n",
    "cobrado = 0\n",
    "pendiente = 0\n",
    "more = ''\n",
    "while more != 'T':\n",
    "    if more == 'A':\n",
    "        clave = input('Introduce el número de la factura: ')\n",
    "        coste = float(input('Introduce el coste de la factura: '))\n",
    "        facturas[clave] = coste\n",
    "        pendiente += coste\n",
    "    if more == 'P':\n",
    "        clave = input('Introduce el número de la factura a pagar: ')\n",
    "        coste = facturas.pop(clave, 0)\n",
    "        cobrado += coste\n",
    "        pendiente -= coste\n",
    "    print('Recaudado:', cobrado)\n",
    "    print('Pendiente de cobro: ', pendiente)\n",
    "    more = input('¿Quieres añadir una nueva factura (A), pagarla (P) o terminar (T)? ')"
   ]
  }
 ],
 "metadata": {
  "kernelspec": {
   "display_name": "Python 3",
   "language": "python",
   "name": "python3"
  },
  "language_info": {
   "codemirror_mode": {
    "name": "ipython",
    "version": 3
   },
   "file_extension": ".py",
   "mimetype": "text/x-python",
   "name": "python",
   "nbconvert_exporter": "python",
   "pygments_lexer": "ipython3",
   "version": "3.12.3"
  }
 },
 "nbformat": 4,
 "nbformat_minor": 2
}
