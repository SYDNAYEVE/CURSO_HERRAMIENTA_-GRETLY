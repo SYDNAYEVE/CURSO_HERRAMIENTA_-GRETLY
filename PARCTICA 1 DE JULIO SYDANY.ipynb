{
 "cells": [
  {
   "cell_type": "markdown",
   "metadata": {},
   "source": [
    "EJERCICIO1 CREAR UNA FUNCION PARA LAS OPERACIONES BASICAS + - * / ^POTENCIA"
   ]
  },
  {
   "cell_type": "code",
   "execution_count": 11,
   "metadata": {},
   "outputs": [
    {
     "name": "stdout",
     "output_type": "stream",
     "text": [
      "Suma: 6.0\n",
      "Resta: -2.0\n",
      "Multiplicación: 8.0\n",
      "División: 0.5\n",
      "Potencia: 16.0\n"
     ]
    }
   ],
   "source": [
    "a = float(input(\"Ingresar el primer número: \"))\n",
    "b = float(input(\"Ingresar el segundo número: \"))\n",
    "\n",
    "def operadores(a, b):\n",
    "    suma = a + b\n",
    "    resta = a - b\n",
    "    mult = a * b\n",
    "    division = a / b\n",
    "    potencia = a ** b\n",
    "    return suma, resta, mult, division, potencia\n",
    "\n",
    "suma, resta, mult, division, potencia = operadores(a, b)\n",
    "\n",
    "print(\"Suma:\", suma)\n",
    "print(\"Resta:\", resta)\n",
    "print(\"Multiplicación:\", mult)\n",
    "print(\"División:\", division)\n",
    "print(\"Potencia:\", potencia)\n"
   ]
  },
  {
   "cell_type": "markdown",
   "metadata": {},
   "source": [
    "TAREA DEL 1 DE JULIO ESCRIBIR UNA FUNCION QUE CALCULE EL TOTAL DE UNA FACTURA TRAS APLICARLE EL IGV.LA FUNCION DEBE RECIBIR LA CANTIDAD SIN IGV Y EL PORCENTAJE DE IGB A APLICAR, Y DEVOLVER EL TOTAL DE LA FACTURA. SI SE INVOCA LA FUNCION SIN PASARLE EL PORCENTAJE DE IGB,DEBERA APLICAR UN 18%"
   ]
  },
  {
   "cell_type": "code",
   "execution_count": 13,
   "metadata": {},
   "outputs": [
    {
     "name": "stdout",
     "output_type": "stream",
     "text": [
      "Total con 18 % IGV : 118.0\n"
     ]
    }
   ],
   "source": [
    "def calcular_total_factura(cantidad_sin_igv, porcentaje_igv=18):\n",
    "    return cantidad_sin_igv * (1 + porcentaje_igv / 100)\n",
    "cantidad_sin_igv = float(input(\"Ingrese la cantidad sin IGV: \"))\n",
    "porcentaje_igv = input(\"Ingrese el porcentaje de IGV (presione Enter para usar el valor por defecto de 18%): \")\n",
    "if porcentaje_igv == \"\":\n",
    "    porcentaje_igv = 18\n",
    "else:\n",
    "    porcentaje_igv = float(porcentaje_igv)\n",
    "total_con_igv = calcular_total_factura(cantidad_sin_igv, porcentaje_igv)\n",
    "print(\"Total con\", porcentaje_igv, \"% IGV :\", total_con_igv)\n"
   ]
  },
  {
   "cell_type": "markdown",
   "metadata": {},
   "source": [
    "2. ESCRIBIR UNA FUNCION  QUE CALCULE EL AREA DE UN CIRCULO Y OTRA QUE CALCULE EL VOLUMEN DE UN CILINDRO USUANDO LA PRIMERA FUNCION ."
   ]
  },
  {
   "cell_type": "code",
   "execution_count": 37,
   "metadata": {},
   "outputs": [
    {
     "name": "stdout",
     "output_type": "stream",
     "text": [
      "El área del círculo de radio 2.0 es: 12.5664\n",
      "El volumen del cilindro con radio 2.0 y altura 4.0 es: 50.2656\n"
     ]
    }
   ],
   "source": [
    "radio = float(input(\"Ingrese el radio del círculo: \"))\n",
    "altura = float(input(\"Ingrese la altura del cilindro: \"))\n",
    "pi = 3.1416\n",
    "def area_circulo(radio):\n",
    "    return pi * radio ** 2\n",
    "def volumen_cilindro(radio, altura):\n",
    "    area_base = area_circulo(radio)\n",
    "    volumen = area_base * altura\n",
    "    return volumen\n",
    "area = area_circulo(radio)\n",
    "volumen = volumen_cilindro(radio, altura)\n",
    "print(\"El área del círculo de radio\", radio, \"es:\", area)\n",
    "print(\"El volumen del cilindro con radio\", radio, \"y altura\", altura, \"es:\", volumen)\n"
   ]
  },
  {
   "cell_type": "markdown",
   "metadata": {},
   "source": [
    "3. ESCRIBIR UNA FUNCION  QUE RECIBA UNA MUESTRA DE NUMEROS  EN UNA LISTA Y DEBUELVA SU MEDIA."
   ]
  },
  {
   "cell_type": "code",
   "execution_count": 43,
   "metadata": {},
   "outputs": [
    {
     "name": "stdout",
     "output_type": "stream",
     "text": [
      "La media de la lista  [2.0, 5.0, 8.0]  es:  5.0\n"
     ]
    }
   ],
   "source": [
    "num_ingre = input(\"Ingrese los números, separados por espacios: \")\n",
    "numeros = [float(num) for num in num_ingre.split()]\n",
    "\n",
    "def calcular_media(numeros):\n",
    "    if len(numeros) == 0:\n",
    "        return 0\n",
    "    return sum(numeros) / len(numeros)\n",
    "\n",
    "media = calcular_media(numeros)\n",
    "print(\"La media de la lista \", numeros, \" es: \", media)\n"
   ]
  },
  {
   "cell_type": "markdown",
   "metadata": {},
   "source": [
    "4. ESCRIBIR  UNA FUNCION  QUE RECIBA UNA MUESTRA DE NUMEROS EN UNA LISTA Y DEBUELVA OTRA LISTA CON SUS CUADRADOS."
   ]
  },
  {
   "cell_type": "code",
   "execution_count": 44,
   "metadata": {},
   "outputs": [
    {
     "name": "stdout",
     "output_type": "stream",
     "text": [
      "La lista de números es: [8.0, 9.0, 7.0, 1.0]\n",
      "La lista de sus cuadrados es: [64.0, 81.0, 49.0, 1.0]\n"
     ]
    }
   ],
   "source": [
    "def cuadrados_lista(numeros):\n",
    "    return [num ** 2 for num in numeros]\n",
    "numeros_str = input(\"Ingrese los números, separados por espacios: \")\n",
    "numeros = [float(num) for num in numeros_str.split()]\n",
    "cuadrados = cuadrados_lista(numeros)\n",
    "print(\"La lista de números es:\", numeros)\n",
    "print(\"La lista de sus cuadrados es:\", cuadrados)\n"
   ]
  },
  {
   "cell_type": "markdown",
   "metadata": {},
   "source": [
    "5: .ESCRIBIR  UNA FUNCI0N  QUE RECIBA UNA MUESTRA DE NUMEROS EN UNA LISTA Y DEBUELVA UN DICCIONARIO CON SU MEDIA,VARIANZA Y DESVIACION TIPICA"
   ]
  },
  {
   "cell_type": "code",
   "execution_count": 45,
   "metadata": {},
   "outputs": [
    {
     "name": "stdout",
     "output_type": "stream",
     "text": [
      "Para la lista [2.0, 5.0, 8.0]:\n",
      "Media: 5.00\n",
      "Varianza: 6.00\n",
      "Desviación Típica: 2.45\n"
     ]
    }
   ],
   "source": [
    "\n",
    "def calcular_estadisticas(numeros):\n",
    "    if not numeros:\n",
    "        return {\"media\": 0, \"varianza\": 0, \"desviacion_tipica\": 0}\n",
    "    \n",
    "    media = sum(numeros) / len(numeros)\n",
    "    varianza = sum((x - media) ** 2 for x in numeros) / len(numeros)\n",
    "    desviacion_tipica = varianza ** 0.5\n",
    "    \n",
    "    return {\"media\": media, \"varianza\": varianza, \"desviacion_tipica\": desviacion_tipica}\n",
    "\n",
    "numeros_str = input(\"Ingrese los números, separados por espacios: \")\n",
    "\n",
    "numeros = [float(num) for num in numeros_str.split()]\n",
    "\n",
    "estadisticas = calcular_estadisticas(numeros)\n",
    "\n",
    "print(f\"Para la lista {numeros}:\")\n",
    "print(f\"Media: {estadisticas['media']:.2f}\")\n",
    "print(f\"Varianza: {estadisticas['varianza']:.2f}\")\n",
    "print(f\"Desviación Típica: {estadisticas['desviacion_tipica']:.2f}\")\n"
   ]
  },
  {
   "cell_type": "markdown",
   "metadata": {},
   "source": [
    "6.ESCRIBIR UNA FUNCION QUE CONVIERTA UN NUMERO DECIMAL EN BINARIO Y OTRA QUE CONVIERTA UN NUMERO BINARIO EN DECIMAL."
   ]
  },
  {
   "cell_type": "code",
   "execution_count": 48,
   "metadata": {},
   "outputs": [
    {
     "name": "stdout",
     "output_type": "stream",
     "text": [
      "El número decimal 10 en binario es: 1010\n",
      "El número binario 1 en decimal es: 1\n"
     ]
    }
   ],
   "source": [
    "def decimal_a_binario(decimal):\n",
    "    return bin(decimal)[2:]\n",
    "\n",
    "def binario_a_decimal(binario):\n",
    "    return int(binario, 2)\n",
    "\n",
    "numero_decimal = int(input(\"Ingrese un número decimal: \"))\n",
    "\n",
    "binario_convertido = decimal_a_binario(numero_decimal)\n",
    "\n",
    "numero_binario = input(\"Ingrese un número binario: \")\n",
    "decimal_convertido = binario_a_decimal(numero_binario)\n",
    "\n",
    "print(\"El número decimal {numero_decimal} en binario es: {binario_convertido}\")\n",
    "print(\"El número binario {numero_binario} en decimal es: {decimal_convertido}\")"
   ]
  },
  {
   "cell_type": "markdown",
   "metadata": {},
   "source": [
    "7.ESCRIBIR UN PROGRAMA QUE RECIBA EN UNA  CADENA DE CARACTERES Y DEBUELVA UN DICCIONARIO CON CADA PALABRA QUE CONTIENE Y SU FRECUENCIA.ESCRIBIR OTRA FUNCION QUE RECIBA EL DICCIONARIO GENERADO CON LA FUNCION ANTERIOR Y DEBUELVA UNA TUPLA CON LA PALABRA MAS REPETIDA Y SU FRECUENCIA."
   ]
  },
  {
   "cell_type": "code",
   "execution_count": 51,
   "metadata": {},
   "outputs": [
    {
     "name": "stdout",
     "output_type": "stream",
     "text": [
      "Diccionario de frecuencias: {frecuencia_palabras}\n",
      "La palabra más frecuente es '{palabra_frecuente}' con una frecuencia de {frecuencia}\n"
     ]
    }
   ],
   "source": [
    "def contar_palabras(cadena):\n",
    "    return {palabra: cadena.lower().split().count(palabra.lower()) for palabra in set(cadena.split())}\n",
    "\n",
    "def palabra_mas_repetida(diccionario):\n",
    "    return max(diccionario.items(), key=lambda x: x[1])\n",
    "\n",
    "\n",
    "cadena = \"Hola mundo hola Hola hola mundo Mundo hola\"\n",
    "frecuencia_palabras = contar_palabras(cadena)\n",
    "palabra_frecuente, frecuencia = palabra_mas_repetida(frecuencia_palabras)\n",
    "\n",
    "print(\"Diccionario de frecuencias: {frecuencia_palabras}\")\n",
    "print(\"La palabra más frecuente es '{palabra_frecuente}' con una frecuencia de {frecuencia}\")"
   ]
  },
  {
   "cell_type": "code",
   "execution_count": 55,
   "metadata": {},
   "outputs": [
    {
     "name": "stdout",
     "output_type": "stream",
     "text": [
      "Diccionario de frecuencias:\n",
      "mundo: 3\n",
      "Mundo: 3\n",
      "Hola: 5\n",
      "hola: 5\n",
      "\n",
      "La palabra más frecuente es 'Hola' con una frecuencia de 5\n"
     ]
    }
   ],
   "source": [
    "def contar_palabras(cadena):\n",
    "    return {palabra: cadena.lower().split().count(palabra.lower()) for palabra in set(cadena.split())}\n",
    "\n",
    "def palabra_mas_repetida(diccionario):\n",
    "    return max(diccionario.items(), key=lambda x: x[1])\n",
    "\n",
    "cadena = \"Hola mundo hola Hola hola mundo Mundo hola\"\n",
    "frecuencia_palabras = contar_palabras(cadena)\n",
    "palabra_frecuente, frecuencia = palabra_mas_repetida(frecuencia_palabras)\n",
    "print(\"Diccionario de frecuencias:\")\n",
    "for palabra, frecuencia in frecuencia_palabras.items():\n",
    "    print(\"{palabra}: {frecuencia}\")\n",
    "print(\"\\nLa palabra más frecuente es '{palabra_frecuente}' con una frecuencia de {frecuencia}\")"
   ]
  },
  {
   "cell_type": "markdown",
   "metadata": {},
   "source": [
    "8.ESCRIBIR UNA FUNCION QUE CALCULE EL MAXIMO COMUN DIVISOR DE DOS NUMEROS Y OTRA QUE CALCULE EL MIMIMO COMUN MULTIPLO."
   ]
  },
  {
   "cell_type": "code",
   "execution_count": 36,
   "metadata": {},
   "outputs": [
    {
     "name": "stdout",
     "output_type": "stream",
     "text": [
      "Máximo Común Divisor:\n",
      "4\n",
      "7\n",
      "1\n",
      "1\n",
      "Mínimo Común Múltiplo:\n",
      "8\n",
      "14\n",
      "551\n",
      "105\n"
     ]
    }
   ],
   "source": [
    "def MCD(a, b):\n",
    "    if a % b == 0:\n",
    "        return b\n",
    "    for k in range(b//2, 0, -1):\n",
    "        if a % k == 0 and b % k == 0:\n",
    "            return k\n",
    "    return 2\n",
    "\n",
    "def MCM(a, b):\n",
    "    return abs(a * b) // MCD(a, b)\n",
    "\n",
    "print(\"Máximo Común Divisor:\")\n",
    "print(MCD(8, 4))    # 4\n",
    "print(MCD(14, 7))   # 7\n",
    "print(MCD(29, 19))  # 1\n",
    "print(MCD(15, 7))   # 1\n",
    "\n",
    "print(\"Mínimo Común Múltiplo:\")\n",
    "print(MCM(8, 4))    # 8\n",
    "print(MCM(14, 7))   # 14\n",
    "print(MCM(29, 19))  # 551\n",
    "print(MCM(15, 7))   # 105\n"
   ]
  }
 ],
 "metadata": {
  "kernelspec": {
   "display_name": "Python 3",
   "language": "python",
   "name": "python3"
  },
  "language_info": {
   "codemirror_mode": {
    "name": "ipython",
    "version": 3
   },
   "file_extension": ".py",
   "mimetype": "text/x-python",
   "name": "python",
   "nbconvert_exporter": "python",
   "pygments_lexer": "ipython3",
   "version": "3.12.3"
  }
 },
 "nbformat": 4,
 "nbformat_minor": 2
}
