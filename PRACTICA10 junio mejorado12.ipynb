# MUY BIEN SYDNAY, SIGUE ADELANTE
{
 "cells": [
  {
   "cell_type": "markdown",
   "metadata": {},
   "source": [
    " EJERCICIO 1 escribe una programa que almacene una cadena de caracteres para contraseña en una variable, pregunte al usuario por la contraseña e imprima por pantalla si la contraseña introducida por el usuario coincide con la guardada en la variable sin tener en cuenta mayusculas y minusculas"
   ]
  },
  {
   "cell_type": "code",
   "execution_count": 5,
   "metadata": {},
   "outputs": [
    {
     "name": "stdout",
     "output_type": "stream",
     "text": [
      "CONTRASEÑA INCORRECTA.\n"
     ]
    }
   ],
   "source": [
    "# 1. Verificar contraseña\n",
    "my_contraseña = \"compu123\"\n",
    "contraseña  = input(\"INTRODUCE LA CONTRASEÑA : \")\n",
    "if my_contraseña==  contraseña.upper():\n",
    "    print(\"LA CONTRASEÑA CORRECTA.\")\n",
    "else:\n",
    "    print(\"CONTRASEÑA INCORRECTA.\")"
   ]
  },
  {
   "cell_type": "markdown",
   "metadata": {},
   "source": [
    " EJERCIO 2 escribir un programa que pida al usuario dos numeros y muestre la pantalla su divicion. si el divisor es cero el prgrama debe mostrar error"
   ]
  },
  {
   "cell_type": "code",
   "execution_count": 6,
   "metadata": {},
   "outputs": [
    {
     "name": "stdout",
     "output_type": "stream",
     "text": [
      "5.0\n"
     ]
    }
   ],
   "source": [
    "# 2. División de dos números\n",
    "numero1 = float(input(\"Introduce el dividendo: \"))\n",
    "numero2 = float(input(\"Introduce el divisor: \"))\n",
    "\n",
    "if numero2 == 0:\n",
    "    print(\"¡Error! El divisor no puede divir por 0.\")\n",
    "else:\n",
    "    print(numero1/numero2)"
   ]
  },
  {
   "cell_type": "markdown",
   "metadata": {},
   "source": [
    " EJERCIO 3 un ciudadano para crar su emprese y pagar impuestos deve ser mayor de 18 años y tener unos ingresos iguales o superiores a 2000 soles mensuales . escribir un programa que pregunte al usuario su edad y sus ingresos mensuales y muestre por pantalla  si el usuario tiene que pagar impuestos o no"
   ]
  },
  {
   "cell_type": "code",
   "execution_count": 10,
   "metadata": {},
   "outputs": [
    {
     "name": "stdout",
     "output_type": "stream",
     "text": [
      "No debes pagar impuestos.\n"
     ]
    }
   ],
   "source": [
    "# 3. Pago de impuestos de 18 años \n",
    "edad = int(input(\"¿que edad tienes?\"))\n",
    "ingresos = float(input(\"¿cual es tu ingreso mensual:? \"))\n",
    "\n",
    "if edad > 18 and ingresos >= 2000:\n",
    "    print(\"Debes pagar impuestos.\")\n",
    "else:\n",
    "    print(\"No debes pagar impuestos.\")"
   ]
  },
  {
   "cell_type": "markdown",
   "metadata": {},
   "source": [
    " EJERCIO 4 los alumnos de un curso de HDS se han dividido en dos grupos  a y b de acuerdo al sexo y el nombre. el grupo A esta formado por las mujeres con un nombre anteriro a la M y los hombre con un nombre posterior a la N y el grupo b por el resto.escribir un programa que pregunte al usuario su nombre y sexo y muestre por pantalla  el grupo que le corresponte"
   ]
  },
  {
   "cell_type": "code",
   "execution_count": 12,
   "metadata": {},
   "outputs": [
    {
     "name": "stdout",
     "output_type": "stream",
     "text": [
      "Tu grupo es: B\n"
     ]
    }
   ],
   "source": [
    "# Clasificación de grupos A y B\n",
    "\n",
    "nombre = input(\"¿Cuál es tu nombre?: \")\n",
    "genero = input(\"¿Cuál es tu sexo (M para masculino, F para femenino)?: \")\n",
    "\n",
    "if genero.lower() == \"m\":\n",
    "    if nombre.lower() < \"m\":\n",
    "        grupo = \"A\"\n",
    "    else:\n",
    "        grupo = \"B\"\n",
    "elif genero.lower() == \"f\":\n",
    "    if nombre.lower() < \"n\":\n",
    "        grupo = \"A\"\n",
    "    else:\n",
    "        grupo = \"B\"\n",
    "else:\n",
    "    grupo = \"No determinado\"\n",
    "\n",
    "print(\"Tu grupo es: \" + grupo)\n",
    "\n"
   ]
  },
  {
   "cell_type": "markdown",
   "metadata": {},
   "source": [
    "EJERCICIO 5 una empresa tiene diferentes salas de juego para todas las edades y quiere un programa que calcule de forma automatica el precio que deve cobrar a asus clientes por entrar.El programa deve preguntar al usuario la edad del cluente y mostrar el precio de la entrada.si el cliente es menor de 4 años puede entrar gratis ,si tiene tiene entre 4 y 18 años debe pagar 10 soles y si es mayor de 18 años ,20 soles."
   ]
  },
  {
   "cell_type": "code",
   "execution_count": 12,
   "metadata": {},
   "outputs": [
    {
     "name": "stdout",
     "output_type": "stream",
     "text": [
      "El precio de la entrada es: 20 soles.\n"
     ]
    }
   ],
   "source": [
    "# 5. Cálculo del precio de la entrada\n",
    "edad = int(input(\"Introduce tu edad: \"))\n",
    "\n",
    "if edad < 4:\n",
    "    precio = 0\n",
    "elif 4 <= edad <= 18:\n",
    "    precio = 10\n",
    "else:\n",
    "    precio = 20\n",
    "\n",
    "print(f\"El precio de la entrada es: {precio} soles.\")"
   ]
  },
  {
   "cell_type": "markdown",
   "metadata": {},
   "source": [
    "ejercico 6 Escribir un programa que pregunte al usuario su edad y muestre por pantalla todos los años que ha cumplido,desde su primer añito."
   ]
  },
  {
   "cell_type": "code",
   "execution_count": 15,
   "metadata": {},
   "outputs": [
    {
     "name": "stdout",
     "output_type": "stream",
     "text": [
      "Has cumplido 1años \n",
      "Has cumplido 2años \n",
      "Has cumplido 3años \n",
      "Has cumplido 4años \n",
      "Has cumplido 5años \n"
     ]
    }
   ],
   "source": [
    "# Preguntar al usuario su edad\n",
    "edad = int(input(\"¿que edad tienes?: \"))\n",
    "for i in range (edad):\n",
    "    print(\"Has cumplido \" + str(i+1) + \"años \")"
   ]
  },
  {
   "cell_type": "markdown",
   "metadata": {},
   "source": [
    "ejercio 7 Escribi un programa que pida al usuario un numero entero y muestre por pantalla un triangulo rectangulo como el demas abajo,de altura el numeron introducido.\n",
    "&\n",
    "&&\n",
    "&&&\n",
    "&&&&"
   ]
  },
  {
   "cell_type": "code",
   "execution_count": 20,
   "metadata": {},
   "outputs": [
    {
     "name": "stdout",
     "output_type": "stream",
     "text": [
      "*\n",
      "**\n",
      "***\n",
      "****\n",
      "*****\n",
      "******\n"
     ]
    }
   ],
   "source": [
    "numero= int(input(\"Introduce la altura del triángulo (entero positivo): \"))\n",
    "for i in range(numero):\n",
    "    print(\"*\" * (i + 1))"
   ]
  },
  {
   "cell_type": "markdown",
   "metadata": {},
   "source": [
    "ejercio 8 escribir un programa que pida al usuario una palabra y luego muestre por pantalla una a una las letras de la palabra introducida empezando por la ultima ."
   ]
  },
  {
   "cell_type": "code",
   "execution_count": 22,
   "metadata": {},
   "outputs": [
    {
     "name": "stdout",
     "output_type": "stream",
     "text": [
      "a\n",
      "ñ\n",
      "u\n",
      "c\n",
      "i\n",
      "v\n"
     ]
    }
   ],
   "source": [
    "# Pide al usuario una palabra\n",
    "palabra = input(\"Introduce una palabra: \")\n",
    "for letra in palabra[::-1]:\n",
    "    print(letra)"
   ]
  },
  {
   "cell_type": "markdown",
   "metadata": {},
   "source": [
    "ejercico 9 Escribe un programa en el que se pregunte al usuario por una frase y una letra ,y muestre por pantalla el numero de veces que aparece la letra en la frase ."
   ]
  },
  {
   "cell_type": "code",
   "execution_count": 34,
   "metadata": {},
   "outputs": [
    {
     "name": "stdout",
     "output_type": "stream",
     "text": [
      "La letra 'paloma' aparece 0 veces en la frase.\n"
     ]
    }
   ],
   "source": [
    "def contar_letra(frase, letra):\n",
    "    contador = 0\n",
    "    for caracter in frase:\n",
    "        if caracter.lower() == letra.lower():\n",
    "            contador += 1\n",
    "    return contador\n",
    "frase_usuario = input(\"Ingresa una frase: \")\n",
    "letra_usuario = input(\"Ingresa una letra: \")\n",
    "\n",
    "resultado = contar_letra(frase_usuario, letra_usuario)\n",
    "\n",
    "print(\"La letra '{letra_usuario}' aparece {resultado} veces en la frase.\")"
   ]
  },
  {
   "cell_type": "markdown",
   "metadata": {},
   "source": [
    "ejercio 10 Escribir un programa que pida al usuario un numero entero y muestre por pantalla un triangulo rectangulo como el de mas bajo.\n",
    "1\n",
    "3 1\n",
    "5 3 1\n",
    "7 5 3 1\n"
   ]
  },
  {
   "cell_type": "code",
   "execution_count": 31,
   "metadata": {},
   "outputs": [
    {
     "name": "stdout",
     "output_type": "stream",
     "text": [
      "*\n",
      "**\n",
      "***\n",
      "****\n",
      "*****\n"
     ]
    }
   ],
   "source": [
    "numero= int(input(\"Introduce la altura del triángulo (entero positivo): \"))\n",
    "for i in range(numero):\n",
    "    print(\"*\" * (i + 1))"
   ]
  },
  {
   "cell_type": "markdown",
   "metadata": {},
   "source": [
    "practica 1"
   ]
  },
  {
   "cell_type": "code",
   "execution_count": 1,
   "metadata": {},
   "outputs": [
    {
     "name": "stdout",
     "output_type": "stream",
     "text": [
      "los cursos es: HDS\n",
      "los cursos es: AG\n",
      "los cursos es: DGTPW\n",
      "los cursos es: PC\n"
     ]
    }
   ],
   "source": [
    "my_curso=[\"HDS\",\"AG\",\"DG\" \"TPW\",\"PC\"]\n",
    "NOTAS=[]\n",
    "for cursos in my_curso:\n",
    "    nota=input(\"que nota tienes\")\n",
    "    notas.append(nota)\n",
    "    print(\"los cursos es:\",cursos)\n",
    "    "
   ]
  },
  {
   "cell_type": "markdown",
   "metadata": {},
   "source": [
    "ejercio 2"
   ]
  },
  {
   "cell_type": "code",
   "execution_count": null,
   "metadata": {},
   "outputs": [],
   "source": [
    "\n",
    "my_cursos = [\"HDS\", \"AG\", \"DG\", \"TPW\", \"PC\"]\n",
    "notas = {}\n",
    "for curso in  my_cursos:\n",
    "    nota = float(input(\"Ingrese la nota para {curso}: \"))\n",
    "    notas[curso] = not\n",
    "for curso, nota in notas.items():\n",
    "    print(f\"En el curso {curso} has sacado una nota de {nota:.2f}\")"
   ]
  }
 ],
 "metadata": {
  "kernelspec": {
   "display_name": "Python 3",
   "language": "python",
   "name": "python3"
  },
  "language_info": {
   "codemirror_mode": {
    "name": "ipython",
    "version": 3
   },
   "file_extension": ".py",
   "mimetype": "text/x-python",
   "name": "python",
   "nbconvert_exporter": "python",
   "pygments_lexer": "ipython3",
   "version": "3.12.3"
  }
 },
 "nbformat": 4,
 "nbformat_minor": 2
}
