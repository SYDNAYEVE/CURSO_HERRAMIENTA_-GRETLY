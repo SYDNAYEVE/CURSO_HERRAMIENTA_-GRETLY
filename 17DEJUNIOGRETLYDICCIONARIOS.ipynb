{
 "cells": [
  {
   "cell_type": "markdown",
   "metadata": {},
   "source": [
    "Creación de diccionarios en Python EJERCICIO 1"
   ]
  },
  {
   "cell_type": "code",
   "execution_count": null,
   "metadata": {},
   "outputs": [],
   "source": [
    "estudiantes = {'Juan': 16, 'Ana': 18, 'Luis': 17}\n",
    "print(estudiantes) # {'Juan': 16, 'Ana': 18, 'Luis': 17}"
   ]
  },
  {
   "cell_type": "code",
   "execution_count": null,
   "metadata": {},
   "outputs": [],
   "source": [
    "estudiantes = dict([('Juan', 16), ('Ana', 18), ('Luis', 17)])\n",
    "print(estudiantes) # {'Juan': 16, 'Ana': 18, 'Luis': 17}"
   ]
  },
  {
   "cell_type": "markdown",
   "metadata": {},
   "source": [
    "Agregar, modificar y eliminar elementos"
   ]
  },
  {
   "cell_type": "code",
   "execution_count": null,
   "metadata": {},
   "outputs": [],
   "source": [
    "\n",
    "estudiantes = {'Juan': 16, 'Ana': 18, 'Luis': 17}\n",
    "estudiantes['Maria'] = 15\n",
    "print(estudiantes) # {'Juan': 16, 'Ana': 18, 'Luis': 17, 'Maria': 15}\n"
   ]
  },
  {
   "cell_type": "code",
   "execution_count": null,
   "metadata": {},
   "outputs": [],
   "source": [
    "estudiantes = {'Juan': 16, 'Ana': 18, 'Luis': 17}\n",
    "estudiantes['Ana'] = 19\n",
    "print(estudiantes) # {'Juan': 16, 'Ana': 19, 'Luis': 17}\n"
   ]
  },
  {
   "cell_type": "code",
   "execution_count": null,
   "metadata": {},
   "outputs": [],
   "source": [
    "estudiantes = {'Juan': 16, 'Ana': 18, 'Luis': 17}\n",
    "del estudiantes['Juan']\n",
    "print(estudiantes) # {'Ana': 18, 'Luis': 17}"
   ]
  },
  {
   "cell_type": "markdown",
   "metadata": {},
   "source": [
    "Acceder a los elementos EJERCIO 3"
   ]
  },
  {
   "cell_type": "code",
   "execution_count": null,
   "metadata": {},
   "outputs": [],
   "source": [
    "estudiantes = {'Juan': 16, 'Ana': 18, 'Luis': 17}\n",
    "print(estudiantes['Ana']) # 18\n"
   ]
  },
  {
   "cell_type": "code",
   "execution_count": null,
   "metadata": {},
   "outputs": [],
   "source": [
    "estudiantes = {'Juan': 16, 'Ana': 18, 'Luis': 17}\n",
    "print(estudiantes.get('Maria', 'No existe')) # 'No existe'"
   ]
  },
  {
   "cell_type": "markdown",
   "metadata": {},
   "source": [
    "Iterar a través de los elementos EJRCICIO 4"
   ]
  },
  {
   "cell_type": "code",
   "execution_count": 1,
   "metadata": {},
   "outputs": [
    {
     "name": "stdout",
     "output_type": "stream",
     "text": [
      "Juan 16\n",
      "Ana 18\n",
      "Luis 17\n"
     ]
    }
   ],
   "source": [
    "estudiantes = {'Juan': 16, 'Ana': 18, 'Luis': 17}\n",
    "for clave in estudiantes:\n",
    "    print(clave, estudiantes[clave])"
   ]
  },
  {
   "cell_type": "code",
   "execution_count": 2,
   "metadata": {},
   "outputs": [
    {
     "name": "stdout",
     "output_type": "stream",
     "text": [
      "Juan 16\n",
      "Ana 18\n",
      "Luis 17\n"
     ]
    }
   ],
   "source": [
    "estudiantes = {'Juan': 16, 'Ana': 18, 'Luis': 17}\n",
    "for clave, valor in estudiantes.items():\n",
    "    print(clave, valor)\n"
   ]
  },
  {
   "cell_type": "markdown",
   "metadata": {},
   "source": [
    "Verificación de pertenencia EJERCICIO 5"
   ]
  },
  {
   "cell_type": "code",
   "execution_count": null,
   "metadata": {},
   "outputs": [],
   "source": [
    "estudiantes = {'Juan': 16, 'Ana': 18, 'Luis': 17}\n",
    "if 'Ana' in estudiantes:\n",
    "    print('Ana es un estudiante')"
   ]
  },
  {
   "cell_type": "markdown",
   "metadata": {},
   "source": [
    "Método len() EJERCICIO 6"
   ]
  },
  {
   "cell_type": "code",
   "execution_count": null,
   "metadata": {},
   "outputs": [],
   "source": [
    "\n",
    "estudiantes = {'Juan': 16, 'Ana': 18, 'Luis': 17}\n",
    "print(len(estudiantes)) # 3\n"
   ]
  }
 ],
 "metadata": {
  "kernelspec": {
   "display_name": "Python 3",
   "language": "python",
   "name": "python3"
  },
  "language_info": {
   "codemirror_mode": {
    "name": "ipython",
    "version": 3
   },
   "file_extension": ".py",
   "mimetype": "text/x-python",
   "name": "python",
   "nbconvert_exporter": "python",
   "pygments_lexer": "ipython3",
   "version": "3.12.3"
  }
 },
 "nbformat": 4,
 "nbformat_minor": 2
}
